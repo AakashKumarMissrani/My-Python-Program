{
 "cells": [
  {
   "cell_type": "code",
   "execution_count": 1,
   "metadata": {},
   "outputs": [
    {
     "name": "stdout",
     "output_type": "stream",
     "text": [
      "122.5\n"
     ]
    }
   ],
   "source": [
    "hours, rate=float(input('Enter hours ')), float(input(\"Enter rate \"))\n",
    "pay=hours*rate\n",
    "print(pay)"
   ]
  },
  {
   "cell_type": "code",
   "execution_count": 2,
   "metadata": {},
   "outputs": [
    {
     "name": "stdout",
     "output_type": "stream",
     "text": [
      "45\n"
     ]
    }
   ],
   "source": [
    "age =str(input(\"enter your age in years\"))\n",
    "print(age)"
   ]
  },
  {
   "cell_type": "code",
   "execution_count": 5,
   "metadata": {},
   "outputs": [
    {
     "name": "stdout",
     "output_type": "stream",
     "text": [
      "51.5\n"
     ]
    }
   ],
   "source": [
    "#calculate marks percentage\n",
    "\n",
    "total, obtained= (200), int(input( \"enter your marks\"))\n",
    "result= (obtained/total)*100\n",
    "print(result)"
   ]
  },
  {
   "cell_type": "code",
   "execution_count": 6,
   "metadata": {},
   "outputs": [
    {
     "ename": "ValueError",
     "evalue": "could not convert string to float: ''",
     "output_type": "error",
     "traceback": [
      "\u001b[1;31m---------------------------------------------------------------------------\u001b[0m",
      "\u001b[1;31mValueError\u001b[0m                                Traceback (most recent call last)",
      "Cell \u001b[1;32mIn[6], line 9\u001b[0m\n\u001b[0;32m      1\u001b[0m \u001b[38;5;66;03m#Task 10\u001b[39;00m\n\u001b[0;32m      2\u001b[0m \u001b[38;5;66;03m#Write a program that asks the user from the keyboard his height in centimeters, his weight in kilograms (each indicator - a new line, in a new query) and returns the following message:\u001b[39;00m\n\u001b[0;32m      3\u001b[0m \u001b[38;5;66;03m#Body mass index: [value].\u001b[39;00m\n\u001b[1;32m   (...)\u001b[0m\n\u001b[0;32m      6\u001b[0m \u001b[38;5;66;03m#BMI=m/h2\u001b[39;00m\n\u001b[0;32m      7\u001b[0m \u001b[38;5;66;03m#where m is body weight in kilograms, h is height in meters\u001b[39;00m\n\u001b[1;32m----> 9\u001b[0m height \u001b[38;5;241m=\u001b[39m \u001b[38;5;28;43mfloat\u001b[39;49m\u001b[43m(\u001b[49m\u001b[38;5;28;43minput\u001b[39;49m\u001b[43m(\u001b[49m\u001b[38;5;124;43m\"\u001b[39;49m\u001b[38;5;124;43menter your height in cm\u001b[39;49m\u001b[38;5;124;43m\"\u001b[39;49m\u001b[43m)\u001b[49m\u001b[43m)\u001b[49m\n\u001b[0;32m     10\u001b[0m weight \u001b[38;5;241m=\u001b[39m \u001b[38;5;28mfloat\u001b[39m(\u001b[38;5;28minput\u001b[39m(\u001b[38;5;124m\"\u001b[39m\u001b[38;5;124menter your weight in kg\u001b[39m\u001b[38;5;124m\"\u001b[39m))\n\u001b[0;32m     11\u001b[0m h \u001b[38;5;241m=\u001b[39m height\u001b[38;5;241m/\u001b[39m\u001b[38;5;241m100\u001b[39m\n",
      "\u001b[1;31mValueError\u001b[0m: could not convert string to float: ''"
     ]
    }
   ],
   "source": [
    "#Task 10\n",
    "#Write a program that asks the user from the keyboard his height in centimeters, his weight in kilograms (each indicator - a new line, in a new query) and returns the following message:\n",
    "#Body mass index: [value].\n",
    "#where [value] is the calculated value of the body mass index.\n",
    "#The body mass index is calculated in the following way:\n",
    "#BMI=m/h2\n",
    "#where m is body weight in kilograms, h is height in meters\n",
    "\n",
    "height = float(input(\"enter your height in cm\"))\n",
    "weight = float(input(\"enter your weight in kg\"))\n",
    "h = height/100\n",
    "bodymassindex = weight/h*2\n",
    "print(bodymassindex)\n"
   ]
  },
  {
   "cell_type": "code",
   "execution_count": 18,
   "metadata": {},
   "outputs": [
    {
     "name": "stdout",
     "output_type": "stream",
     "text": [
      "1\n",
      "4\n"
     ]
    }
   ],
   "source": [
    "x=input(\"Your word is... \")\n",
    "vow ='aeiuo'\n",
    "cons=\"bcdfghjklmnpqrstvwxyz\"\n",
    "count=0\n",
    "count2=0\n",
    "for i in x:\n",
    "  if i in vow:\n",
    "    count+=1\n",
    "print(count)\n",
    "for i in x:\n",
    "  if i in cons:\n",
    "    count2+=1\n",
    "print(count2)"
   ]
  },
  {
   "cell_type": "code",
   "execution_count": 19,
   "metadata": {},
   "outputs": [
    {
     "name": "stdout",
     "output_type": "stream",
     "text": [
      "6\n"
     ]
    }
   ],
   "source": [
    "x = 0\n",
    "x+=1\n",
    "x+=2\n",
    "x+=3\n",
    "print(x)"
   ]
  },
  {
   "cell_type": "code",
   "execution_count": 1,
   "metadata": {},
   "outputs": [
    {
     "name": "stdout",
     "output_type": "stream",
     "text": [
      "6\n"
     ]
    }
   ],
   "source": [
    "x = 0\n",
    "x+=1\n",
    "x+=1\n",
    "x+=1\n",
    "x+=1\n",
    "x+=1\n",
    "x+=1\n",
    "print(x)"
   ]
  },
  {
   "cell_type": "code",
   "execution_count": 2,
   "metadata": {},
   "outputs": [
    {
     "data": {
      "text/plain": [
       "0"
      ]
     },
     "execution_count": 2,
     "metadata": {},
     "output_type": "execute_result"
    }
   ],
   "source": [
    "x-6"
   ]
  },
  {
   "cell_type": "code",
   "execution_count": 3,
   "metadata": {},
   "outputs": [
    {
     "name": "stdout",
     "output_type": "stream",
     "text": [
      "3\n"
     ]
    }
   ],
   "source": [
    "y=0\n",
    "y+=3\n",
    "print(y)"
   ]
  },
  {
   "cell_type": "code",
   "execution_count": 4,
   "metadata": {},
   "outputs": [
    {
     "name": "stdout",
     "output_type": "stream",
     "text": [
      "5\n",
      "4\n",
      "3\n",
      "2\n",
      "1\n",
      "Stop!\n"
     ]
    }
   ],
   "source": [
    "n = 5\n",
    "while n > 0:\n",
    "    print(n)\n",
    "    n -= 1\n",
    "print('Stop!')"
   ]
  },
  {
   "cell_type": "code",
   "execution_count": 10,
   "metadata": {},
   "outputs": [
    {
     "name": "stdout",
     "output_type": "stream",
     "text": [
      "0\n",
      "1\n",
      "2\n",
      "3\n",
      "4\n"
     ]
    }
   ],
   "source": [
    "count = 0\n",
    "while count < 5:  # The loop will run as long as count is less than 5\n",
    "    print(count)\n",
    "    count += 1  # Increment count by 1 after each iteration\n"
   ]
  },
  {
   "cell_type": "code",
   "execution_count": 18,
   "metadata": {},
   "outputs": [
    {
     "name": "stdout",
     "output_type": "stream",
     "text": [
      "eepn\n"
     ]
    }
   ],
   "source": [
    "word= \"welcome to python\"\n",
    "print(word[1::5])"
   ]
  },
  {
   "cell_type": "code",
   "execution_count": 29,
   "metadata": {},
   "outputs": [
    {
     "name": "stdout",
     "output_type": "stream",
     "text": [
      "ynge\n",
      "pyt\n",
      "thonlanguage\n",
      "phlgg\n"
     ]
    }
   ],
   "source": [
    "word = \"pythonlanguage\"\n",
    "print(word[1::4])  # Characters from index 1 to 3 ('yth')\n",
    "print(word[:3])   # Characters from the beginning to index 2 ('pyt')\n",
    "print(word[2:])   # Characters from index 2 to the end ('thon')\n",
    "print(word[::3])  # Every second character ('pto')\n"
   ]
  },
  {
   "cell_type": "code",
   "execution_count": 30,
   "metadata": {},
   "outputs": [
    {
     "name": "stdout",
     "output_type": "stream",
     "text": [
      "Character at index 0: p\n",
      "Character at index 1: r\n",
      "Character at index 2: o\n",
      "Character at index 3: g\n",
      "Character at index 4: r\n",
      "Character at index 5: a\n",
      "Character at index 6: m\n",
      "Character at index 7: m\n",
      "Character at index 8: i\n",
      "Character at index 9: n\n",
      "Character at index 10: g\n"
     ]
    }
   ],
   "source": [
    "word = \"programming\"\n",
    "i = 0\n",
    "while i < len(word):\n",
    "    print(f\"Character at index {i}: {word[i]}\")\n",
    "    i += 1\n"
   ]
  },
  {
   "cell_type": "code",
   "execution_count": 2,
   "metadata": {},
   "outputs": [
    {
     "name": "stdout",
     "output_type": "stream",
     "text": [
      "6.0\n"
     ]
    }
   ],
   "source": [
    "a=int(input ())\n",
    "b=int(input ())\n",
    "c=int(input ())\n",
    "print((a+b+c)/3)"
   ]
  },
  {
   "cell_type": "code",
   "execution_count": 10,
   "metadata": {},
   "outputs": [
    {
     "name": "stdout",
     "output_type": "stream",
     "text": [
      "6\n"
     ]
    }
   ],
   "source": [
    "u = 556\n",
    "u%= 10\n",
    "print(u)"
   ]
  },
  {
   "cell_type": "code",
   "execution_count": null,
   "metadata": {},
   "outputs": [],
   "source": []
  }
 ],
 "metadata": {
  "kernelspec": {
   "display_name": "Python 3",
   "language": "python",
   "name": "python3"
  },
  "language_info": {
   "codemirror_mode": {
    "name": "ipython",
    "version": 3
   },
   "file_extension": ".py",
   "mimetype": "text/x-python",
   "name": "python",
   "nbconvert_exporter": "python",
   "pygments_lexer": "ipython3",
   "version": "3.10.7"
  }
 },
 "nbformat": 4,
 "nbformat_minor": 2
}
