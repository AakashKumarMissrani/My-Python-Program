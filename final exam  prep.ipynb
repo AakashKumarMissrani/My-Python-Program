{
 "cells": [
  {
   "cell_type": "code",
   "execution_count": 152,
   "metadata": {},
   "outputs": [
    {
     "name": "stdout",
     "output_type": "stream",
     "text": [
      "{'C': 1, 'o': 2, 'n': 2, 'g': 1, 'r': 1, 'a': 1, 't': 2, 'u': 1, 'l': 1, 'i': 1}\n"
     ]
    }
   ],
   "source": [
    "greet = \"Congratultion\"\n",
    "d = dict()\n",
    "for i in greet:\n",
    "    if i not in d:\n",
    "        d[i] = 1\n",
    "    else:\n",
    "        d[i] = d[i] +1\n",
    "print(d)"
   ]
  },
  {
   "cell_type": "code",
   "execution_count": 153,
   "metadata": {},
   "outputs": [
    {
     "name": "stdout",
     "output_type": "stream",
     "text": [
      "{'A': 1, 'a': 4, 'k': 2, 's': 3, 'h': 1, ' ': 2, 'u': 1, 'm': 1, 'r': 2, 'M': 1, 'i': 2, 'n': 1}\n",
      "{'A': 1, 'a': 4, 'k': 2, 's': 3, 'h': 1, ' ': 2, 'u': 1, 'm': 1, 'r': 2, 'M': 1, 'i': 2, 'n': 1}\n"
     ]
    }
   ],
   "source": [
    "A = \"Aakash kumar Missrani\"\n",
    "H = dict()\n",
    "for i in A:\n",
    "    if i not in H:\n",
    "        H[i] = 1\n",
    "    else:\n",
    "        H[i] = H[i] + 1\n",
    "print(H)\n",
    "r = H\n",
    "print(r)"
   ]
  },
  {
   "cell_type": "code",
   "execution_count": 154,
   "metadata": {},
   "outputs": [
    {
     "name": "stdout",
     "output_type": "stream",
     "text": [
      "12\n"
     ]
    }
   ],
   "source": [
    "L = len(H)\n",
    "print(L)"
   ]
  },
  {
   "cell_type": "code",
   "execution_count": 155,
   "metadata": {},
   "outputs": [
    {
     "name": "stdout",
     "output_type": "stream",
     "text": [
      "A\n",
      "a\n",
      "k\n",
      "s\n",
      "h\n",
      " \n",
      "u\n",
      "m\n",
      "r\n",
      "M\n",
      "i\n",
      "n\n"
     ]
    }
   ],
   "source": [
    "for i in H:\n",
    "    print(i)"
   ]
  },
  {
   "cell_type": "code",
   "execution_count": 156,
   "metadata": {},
   "outputs": [
    {
     "name": "stdout",
     "output_type": "stream",
     "text": [
      "{1: 'one', 2: 'two', 3: 'three', 4: 'four'}\n"
     ]
    }
   ],
   "source": [
    "n = dict()\n",
    "n [1] = \"one\"\n",
    "n [2] = \"two\"\n",
    "n [3] = \"three\"\n",
    "n [4] =  \"four\"\n",
    "print(n)\n",
    "\n",
    "\n",
    "\n"
   ]
  },
  {
   "cell_type": "code",
   "execution_count": 157,
   "metadata": {},
   "outputs": [
    {
     "name": "stdout",
     "output_type": "stream",
     "text": [
      "dict_values(['one', 'two', 'three', 'four'])\n",
      "dict_keys([1, 2, 3, 4])\n",
      "dict_items([(1, 'one'), (2, 'two'), (3, 'three'), (4, 'four')])\n",
      "two\n",
      "None\n",
      "one\n"
     ]
    }
   ],
   "source": [
    "print(n.values())\n",
    "print(n.keys())\n",
    "print(n.items())\n",
    "print(n.get(2))\n",
    "print(n.get(10))\n",
    "print(n.pop(1))"
   ]
  },
  {
   "cell_type": "code",
   "execution_count": 158,
   "metadata": {},
   "outputs": [
    {
     "name": "stdout",
     "output_type": "stream",
     "text": [
      "None\n"
     ]
    }
   ],
   "source": [
    "U = n.update(d)\n",
    "print(U)"
   ]
  },
  {
   "cell_type": "code",
   "execution_count": 159,
   "metadata": {},
   "outputs": [
    {
     "name": "stdout",
     "output_type": "stream",
     "text": [
      "{'C': 1, 'o': 2, 'n': 2, 'g': 1, 'r': 1, 'a': 1, 't': 2, 'u': 1, 'l': 1, 'i': 1}\n"
     ]
    }
   ],
   "source": [
    "print(d)"
   ]
  },
  {
   "cell_type": "code",
   "execution_count": 160,
   "metadata": {},
   "outputs": [
    {
     "name": "stdout",
     "output_type": "stream",
     "text": [
      "{'C': 1, 'o': 2, 'n': 2, 'g': 1, 'r': 1, 'a': 1, 't': 2, 'u': 1, 'l': 1, 'i': 1, 2: 'two', 3: 'three', 4: 'four'}\n"
     ]
    }
   ],
   "source": [
    "d.update(n)\n",
    "print(d)"
   ]
  },
  {
   "cell_type": "code",
   "execution_count": 161,
   "metadata": {},
   "outputs": [
    {
     "name": "stdout",
     "output_type": "stream",
     "text": [
      "{'A': 1, 'a': 4, 'k': 2, 's': 3, 'h': 1, ' ': 2, 'u': 1, 'm': 1, 'r': 2, 'M': 1, 'i': 2, 'n': 1}\n"
     ]
    }
   ],
   "source": [
    "print(r)"
   ]
  },
  {
   "cell_type": "code",
   "execution_count": 162,
   "metadata": {},
   "outputs": [
    {
     "data": {
      "text/plain": [
       "12"
      ]
     },
     "execution_count": 162,
     "metadata": {},
     "output_type": "execute_result"
    }
   ],
   "source": [
    "len(r)"
   ]
  },
  {
   "cell_type": "code",
   "execution_count": null,
   "metadata": {},
   "outputs": [],
   "source": []
  },
  {
   "cell_type": "code",
   "execution_count": 163,
   "metadata": {},
   "outputs": [
    {
     "name": "stdout",
     "output_type": "stream",
     "text": [
      "{1: 'one', 2: 'two', 3: 'three', 4: 'four'}\n"
     ]
    }
   ],
   "source": [
    "n = dict()\n",
    "n [1] = \"one\"\n",
    "n [2] = \"two\"\n",
    "n [3] = \"three\"\n",
    "n [4] =  \"four\"\n",
    "print(n)"
   ]
  },
  {
   "cell_type": "code",
   "execution_count": 164,
   "metadata": {},
   "outputs": [
    {
     "name": "stdout",
     "output_type": "stream",
     "text": [
      "{1: 'one', 2: 'two', 3: 'three', 4: 'four'}\n"
     ]
    }
   ],
   "source": [
    "print(n)"
   ]
  },
  {
   "cell_type": "code",
   "execution_count": 165,
   "metadata": {},
   "outputs": [
    {
     "name": "stdout",
     "output_type": "stream",
     "text": [
      "1\n",
      "2\n",
      "3\n",
      "4\n"
     ]
    }
   ],
   "source": [
    "for i in n:\n",
    "    print(i)"
   ]
  },
  {
   "cell_type": "code",
   "execution_count": 166,
   "metadata": {},
   "outputs": [
    {
     "name": "stdout",
     "output_type": "stream",
     "text": [
      "dict_values(['one', 'two', 'three', 'four'])\n",
      "dict_values(['one', 'two', 'three', 'four'])\n",
      "dict_values(['one', 'two', 'three', 'four'])\n",
      "dict_values(['one', 'two', 'three', 'four'])\n"
     ]
    }
   ],
   "source": [
    "for i in n:\n",
    "   print(n.values())"
   ]
  },
  {
   "cell_type": "code",
   "execution_count": 167,
   "metadata": {},
   "outputs": [
    {
     "name": "stdout",
     "output_type": "stream",
     "text": [
      "{1: 'one', 2: 'two', 3: 'three', 4: 'four'}\n",
      "one\n",
      "two\n",
      "three\n",
      "four\n"
     ]
    }
   ],
   "source": [
    "print(n)\n",
    "for a in n.values():\n",
    "    print(a)"
   ]
  },
  {
   "cell_type": "code",
   "execution_count": 168,
   "metadata": {},
   "outputs": [
    {
     "name": "stdout",
     "output_type": "stream",
     "text": [
      "dict_values(['one', 'two', 'three', 'four'])\n"
     ]
    }
   ],
   "source": [
    "print(n.values())"
   ]
  },
  {
   "cell_type": "code",
   "execution_count": 169,
   "metadata": {},
   "outputs": [
    {
     "data": {
      "text/plain": [
       "'two'"
      ]
     },
     "execution_count": 169,
     "metadata": {},
     "output_type": "execute_result"
    }
   ],
   "source": [
    "n.get(2)"
   ]
  },
  {
   "cell_type": "code",
   "execution_count": 170,
   "metadata": {},
   "outputs": [
    {
     "data": {
      "text/plain": [
       "4"
      ]
     },
     "execution_count": 170,
     "metadata": {},
     "output_type": "execute_result"
    }
   ],
   "source": [
    "len(n)"
   ]
  },
  {
   "cell_type": "code",
   "execution_count": 171,
   "metadata": {},
   "outputs": [
    {
     "data": {
      "text/plain": [
       "[1, 2, 3, 4]"
      ]
     },
     "execution_count": 171,
     "metadata": {},
     "output_type": "execute_result"
    }
   ],
   "source": [
    "list(n)"
   ]
  },
  {
   "cell_type": "code",
   "execution_count": 172,
   "metadata": {},
   "outputs": [
    {
     "name": "stdout",
     "output_type": "stream",
     "text": [
      "{'Aus': 0, 'USA': 2, 'jap': 5, 'ger': 3}\n",
      "{'Aus': 0, 'USA': 2, 'jap': 5, 'ger': 3}\n"
     ]
    }
   ],
   "source": [
    "world = {}\n",
    "a= {\"Aus\": 0,\"USA\": 2}\n",
    "b= {\"jap\": 5,  \"ger\": 3}\n",
    "a.update(b)\n",
    "print(a)\n",
    "world.update(a)\n",
    "print(world)\n"
   ]
  },
  {
   "cell_type": "code",
   "execution_count": 173,
   "metadata": {},
   "outputs": [
    {
     "name": "stdout",
     "output_type": "stream",
     "text": [
      "{'Aus': 0, 'USA': 2, 'jap': 5, 'ger': 3}\n"
     ]
    }
   ],
   "source": [
    "world.update(a)\n",
    "print(world)"
   ]
  },
  {
   "cell_type": "code",
   "execution_count": 174,
   "metadata": {},
   "outputs": [
    {
     "data": {
      "text/plain": [
       "dict_keys(['Aus', 'USA', 'jap', 'ger'])"
      ]
     },
     "execution_count": 174,
     "metadata": {},
     "output_type": "execute_result"
    }
   ],
   "source": [
    "world.keys()"
   ]
  },
  {
   "cell_type": "code",
   "execution_count": 175,
   "metadata": {},
   "outputs": [
    {
     "data": {
      "text/plain": [
       "dict_values([0, 2, 5, 3])"
      ]
     },
     "execution_count": 175,
     "metadata": {},
     "output_type": "execute_result"
    }
   ],
   "source": [
    "world.values()"
   ]
  },
  {
   "cell_type": "code",
   "execution_count": 176,
   "metadata": {},
   "outputs": [
    {
     "name": "stdout",
     "output_type": "stream",
     "text": [
      "{'Aus': 0, 'USA': 2, 'jap': 5, 'ger': 3}\n",
      "Aus 0\n",
      "USA 2\n",
      "jap 5\n",
      "ger 3\n"
     ]
    }
   ],
   "source": [
    "print(world)\n",
    "for key, values in world.items():\n",
    "    print(key, values)"
   ]
  },
  {
   "cell_type": "code",
   "execution_count": 177,
   "metadata": {},
   "outputs": [
    {
     "name": "stdout",
     "output_type": "stream",
     "text": [
      "10\n"
     ]
    }
   ],
   "source": [
    "world= {'Aus': 0, 'USA': 2, 'jap': 5, 'ger': 3}\n",
    "sum= 0\n",
    "for value in world.values(): \n",
    "    sum += value\n",
    "print(sum)  # Output: 0"
   ]
  },
  {
   "cell_type": "code",
   "execution_count": 178,
   "metadata": {},
   "outputs": [
    {
     "name": "stdout",
     "output_type": "stream",
     "text": [
      "a\n",
      "a\n",
      "k\n",
      "a\n",
      "s\n",
      "h\n",
      "k\n",
      "u\n",
      "m\n",
      "a\n",
      "r\n",
      "m\n",
      "i\n",
      "s\n",
      "s\n",
      "r\n",
      "a\n",
      "n\n",
      "i\n"
     ]
    }
   ],
   "source": [
    "e = \"aakashkumarmissrani\"\n",
    "for p in e:\n",
    "    print(p)"
   ]
  },
  {
   "cell_type": "code",
   "execution_count": 179,
   "metadata": {},
   "outputs": [
    {
     "name": "stdout",
     "output_type": "stream",
     "text": [
      "('Aus', 0)\n",
      "('USA', 2)\n",
      "('jap', 5)\n",
      "('ger', 3)\n"
     ]
    }
   ],
   "source": [
    "for c in (world.items()):\n",
    "    print(c)\n"
   ]
  },
  {
   "cell_type": "code",
   "execution_count": 180,
   "metadata": {},
   "outputs": [
    {
     "name": "stdout",
     "output_type": "stream",
     "text": [
      "0 red\n",
      "1 blue\n",
      "2 green\n"
     ]
    }
   ],
   "source": [
    "colors = [\"red\", \"blue\", \"green\"]\n",
    "for index, color in enumerate(colors):\n",
    "    print(index, color)\n"
   ]
  },
  {
   "cell_type": "code",
   "execution_count": 181,
   "metadata": {},
   "outputs": [
    {
     "name": "stdout",
     "output_type": "stream",
     "text": [
      "[0, 1, 4, 9, 16]\n"
     ]
    }
   ],
   "source": [
    "squares = [x**2 for x in range(5)]\n",
    "print(squares)\n"
   ]
  },
  {
   "cell_type": "code",
   "execution_count": 182,
   "metadata": {},
   "outputs": [
    {
     "ename": "ValueError",
     "evalue": "invalid literal for int() with base 10: ''",
     "output_type": "error",
     "traceback": [
      "\u001b[1;31m---------------------------------------------------------------------------\u001b[0m",
      "\u001b[1;31mValueError\u001b[0m                                Traceback (most recent call last)",
      "Cell \u001b[1;32mIn[182], line 1\u001b[0m\n\u001b[1;32m----> 1\u001b[0m s \u001b[38;5;241m=\u001b[39m \u001b[38;5;28;43mint\u001b[39;49m\u001b[43m(\u001b[49m\u001b[38;5;28;43minput\u001b[39;49m\u001b[43m(\u001b[49m\u001b[43m)\u001b[49m\u001b[43m)\u001b[49m\n\u001b[0;32m      2\u001b[0m w \u001b[38;5;241m=\u001b[39m s\n\u001b[0;32m      3\u001b[0m x \u001b[38;5;241m=\u001b[39m[w\u001b[38;5;241m*\u001b[39m\u001b[38;5;241m*\u001b[39m\u001b[38;5;241m2\u001b[39m \u001b[38;5;28;01mfor\u001b[39;00m w \u001b[38;5;129;01min\u001b[39;00m \u001b[38;5;28mrange\u001b[39m(\u001b[38;5;241m10\u001b[39m)]\n",
      "\u001b[1;31mValueError\u001b[0m: invalid literal for int() with base 10: ''"
     ]
    }
   ],
   "source": [
    "s = int(input())\n",
    "w = s\n",
    "x =[w**2 for w in range(10)]\n",
    "print(x)"
   ]
  },
  {
   "cell_type": "code",
   "execution_count": 64,
   "metadata": {},
   "outputs": [
    {
     "name": "stdout",
     "output_type": "stream",
     "text": [
      "1\n",
      "3\n",
      "5\n",
      "7\n",
      "9\n"
     ]
    }
   ],
   "source": [
    "x = 1\n",
    "while x <= 10:\n",
    "    print(x)\n",
    "    x += 2\n"
   ]
  },
  {
   "cell_type": "code",
   "execution_count": 66,
   "metadata": {},
   "outputs": [],
   "source": [
    "A= \"bananana\"\n",
    "while A <=  \"banana\":\n",
    "    print(A)\n"
   ]
  },
  {
   "cell_type": "code",
   "execution_count": 68,
   "metadata": {},
   "outputs": [
    {
     "name": "stdout",
     "output_type": "stream",
     "text": [
      "b\n",
      "a\n",
      "n\n",
      "a\n",
      "n\n",
      "a\n",
      "n\n",
      "a\n"
     ]
    }
   ],
   "source": [
    "for i in A:\n",
    "    print(i)"
   ]
  },
  {
   "cell_type": "code",
   "execution_count": 71,
   "metadata": {},
   "outputs": [
    {
     "name": "stdout",
     "output_type": "stream",
     "text": [
      "{'Aus': 0, 'USA': 2, 'jap': 5, 'ger': 3}\n"
     ]
    }
   ],
   "source": [
    "print(world)"
   ]
  },
  {
   "cell_type": "code",
   "execution_count": 93,
   "metadata": {},
   "outputs": [
    {
     "name": "stdout",
     "output_type": "stream",
     "text": [
      "{'apple': 5, 'banana': 6, 'kiwi': 4}\n"
     ]
    }
   ],
   "source": [
    "#Task 3 Convert the list into a dictionary where the key is a word and the value is the number of letters.\n",
    "\n",
    "original_list = [\"apple\", \"banana\", \"kiwi\"]\n",
    "new_list={}\n",
    "for i in original_list:\n",
    "  x={i:len(i)}\n",
    "  new_list.update(x)\n",
    "print (new_list)"
   ]
  },
  {
   "cell_type": "code",
   "execution_count": 98,
   "metadata": {},
   "outputs": [
    {
     "name": "stdout",
     "output_type": "stream",
     "text": [
      "{'apple': 5, 'banana': 6, 'cherry': 6}\n"
     ]
    }
   ],
   "source": [
    "OL = [\"apple\" ,  \"banana\" , \"cherry\"]\n",
    "NL= {}\n",
    "for i in OL:\n",
    "    N={i:len(i)}\n",
    "    NL.update(N)\n",
    "print(NL)"
   ]
  },
  {
   "cell_type": "code",
   "execution_count": 99,
   "metadata": {},
   "outputs": [
    {
     "name": "stdout",
     "output_type": "stream",
     "text": [
      "{'Aus': 0, 'USA': 2, 'jap': 5, 'ger': 3}\n"
     ]
    }
   ],
   "source": [
    "print(world)"
   ]
  },
  {
   "cell_type": "code",
   "execution_count": 109,
   "metadata": {},
   "outputs": [
    {
     "name": "stdout",
     "output_type": "stream",
     "text": [
      "{'Aus': 3, 'USA': 3, 'jap': 3, 'ger': 3}\n"
     ]
    }
   ],
   "source": [
    "r = {}\n",
    "for i in world:\n",
    "    V = {i:len(i)}\n",
    "    r.update(V)\n",
    "print(r)"
   ]
  },
  {
   "cell_type": "code",
   "execution_count": 120,
   "metadata": {},
   "outputs": [
    {
     "name": "stdout",
     "output_type": "stream",
     "text": [
      "{'apple': 5, 'banana': 6, 'kiwi': 4}\n"
     ]
    }
   ],
   "source": [
    "original_list = [\"apple\", \"banana\", \"kiwi\"]\n",
    "new_list={}\n",
    "for i in original_list:\n",
    "  new_list[i]=len(i)\n",
    "print(new_list)"
   ]
  },
  {
   "cell_type": "code",
   "execution_count": 184,
   "metadata": {},
   "outputs": [
    {
     "name": "stdout",
     "output_type": "stream",
     "text": [
      "{'apple': 5, 'banana': 6, 'kiwi': 4}\n"
     ]
    }
   ],
   "source": [
    "print(new_list)"
   ]
  },
  {
   "cell_type": "code",
   "execution_count": 185,
   "metadata": {},
   "outputs": [
    {
     "name": "stdout",
     "output_type": "stream",
     "text": [
      "{'b': 1, 'd': 2}\n"
     ]
    }
   ],
   "source": [
    "my_dict = {\"a\": 0, \"b\": 1, \"c\": 0, \"d\": 2}\n",
    "new_dict={}\n",
    "for key,value in my_dict.items():\n",
    "  if value!=0:\n",
    "    new_dict[key]=value\n",
    "print(new_dict)"
   ]
  },
  {
   "cell_type": "code",
   "execution_count": 205,
   "metadata": {},
   "outputs": [
    {
     "name": "stdout",
     "output_type": "stream",
     "text": [
      "{'banana': 6}\n"
     ]
    }
   ],
   "source": [
    "S={}\n",
    "for key, value in new_list.items():\n",
    "    if value == 6:\n",
    "        S[key] = value\n",
    "print(S)\n",
    "    "
   ]
  },
  {
   "cell_type": "code",
   "execution_count": 191,
   "metadata": {},
   "outputs": [
    {
     "name": "stdout",
     "output_type": "stream",
     "text": [
      "{'b': 8, 'd': 7}\n"
     ]
    }
   ],
   "source": [
    "my_dict = {\"a\": 1, \"b\": 3, \"c\": 0, \"d\": 2}\n",
    "new_dict = {}\n",
    "for key, value in my_dict.items():\n",
    "    if value > 1:\n",
    "        new_dict[key] = value + 5\n",
    "print(new_dict)\n"
   ]
  },
  {
   "cell_type": "code",
   "execution_count": 216,
   "metadata": {},
   "outputs": [
    {
     "name": "stdout",
     "output_type": "stream",
     "text": [
      "{'B': 2, 'C': 3, 'D': 4, 'E': 5}\n"
     ]
    }
   ],
   "source": [
    "my_list = {\"A\": 1, \"B\": 2, \"C\": 3,  \"D\": 4, \"E\": 5}\n",
    "data={}\n",
    "for key, value in my_list.items():\n",
    "    if value > 1:\n",
    "        data[key] = value\n",
    "print(data)"
   ]
  },
  {
   "cell_type": "code",
   "execution_count": 234,
   "metadata": {},
   "outputs": [
    {
     "name": "stdout",
     "output_type": "stream",
     "text": [
      "{'B': 3}\n"
     ]
    }
   ],
   "source": [
    "my_list = {\"A\": 1, \"B\": 2, \"C\": 3,  \"D\": 4, \"E\": 5}\n",
    "data={}\n",
    "for key, value in my_list.items():\n",
    "    if value == 2:\n",
    "        data[key] = value +1\n",
    "print(data)"
   ]
  },
  {
   "cell_type": "code",
   "execution_count": 242,
   "metadata": {},
   "outputs": [
    {
     "name": "stdout",
     "output_type": "stream",
     "text": [
      "{'b': 8}\n"
     ]
    }
   ],
   "source": [
    "my_dict = {\"a\": 1, \"b\": 4, \"c\": 3, \"d\": 6}\n",
    "new_dict = {}\n",
    "for key, value in my_dict.items():\n",
    "    if value == 4:  # Check if value is even\n",
    "        new_dict[key] = value * 2\n",
    "print(new_dict)\n"
   ]
  },
  {
   "cell_type": "code",
   "execution_count": 260,
   "metadata": {},
   "outputs": [
    {
     "name": "stdout",
     "output_type": "stream",
     "text": [
      "Value: 3\n"
     ]
    }
   ],
   "source": [
    "# Dictionary with keys and values\n",
    "data = {\"apple\": 1, \"banana\": 2, \"cherry\": 3, \"date\": 4}\n",
    "\n",
    "# Get user input\n",
    "user_input = input(\"Enter a key or value: \")\n",
    "\n",
    "# Check if input is a key in the dictionary\n",
    "if user_input in data:\n",
    "    print(\"Value:\", data[user_input])\n",
    "else:\n",
    "    # Try to find a key for the input as a value\n",
    "    for key, value in data.items():\n",
    "        if str(value) == user_input:\n",
    "            print(\"Key:\", key)\n",
    "            break\n",
    "    else:\n",
    "        print(\"No match found.\")\n"
   ]
  },
  {
   "cell_type": "code",
   "execution_count": 26,
   "metadata": {},
   "outputs": [
    {
     "name": "stdout",
     "output_type": "stream",
     "text": [
      "e\n"
     ]
    }
   ],
   "source": [
    "list= [\"hi\", \"my\", \"name\", \"is\", \"Aakash\"]\n",
    "print(list[2][-1])"
   ]
  },
  {
   "cell_type": "code",
   "execution_count": 5,
   "metadata": {},
   "outputs": [
    {
     "name": "stdout",
     "output_type": "stream",
     "text": [
      "h\n",
      "i\n",
      "m\n",
      "y\n",
      "n\n",
      "a\n",
      "m\n",
      "e\n",
      "i\n",
      "s\n",
      "A\n",
      "a\n",
      "k\n",
      "a\n",
      "s\n",
      "h\n"
     ]
    }
   ],
   "source": [
    "for name in list:\n",
    "    for word in name:\n",
    "        for charater in word:\n",
    "            print(charater)"
   ]
  },
  {
   "cell_type": "code",
   "execution_count": 35,
   "metadata": {},
   "outputs": [
    {
     "name": "stdout",
     "output_type": "stream",
     "text": [
      "H\n",
      "I\n",
      "M\n",
      "Y\n",
      "N\n",
      "A\n",
      "M\n",
      "E\n",
      "I\n",
      "S\n",
      "A\n",
      "A\n",
      "K\n",
      "A\n",
      "S\n",
      "H\n"
     ]
    }
   ],
   "source": [
    "for name in list:\n",
    "    for word in name:\n",
    "        for charater in word:\n",
    "            charater = charater.upper()\n",
    "            print(charater)"
   ]
  },
  {
   "cell_type": "code",
   "execution_count": 36,
   "metadata": {},
   "outputs": [
    {
     "name": "stdout",
     "output_type": "stream",
     "text": [
      "h\n",
      "i\n",
      "m\n",
      "y\n",
      "n\n",
      "a\n",
      "m\n",
      "e\n",
      "i\n",
      "s\n",
      "a\n",
      "a\n",
      "k\n",
      "a\n",
      "s\n",
      "h\n"
     ]
    }
   ],
   "source": [
    "for name in list:\n",
    "    for word in name:\n",
    "        for charater in word:\n",
    "            charater = charater.lower()\n",
    "            print(charater)"
   ]
  },
  {
   "cell_type": "code",
   "execution_count": 40,
   "metadata": {},
   "outputs": [
    {
     "name": "stdout",
     "output_type": "stream",
     "text": [
      "['H', 'I']\n",
      "['M', 'Y']\n",
      "['N', 'A', 'M', 'E']\n",
      "['I', 'S']\n",
      "['A', 'A', 'K', 'A', 'S', 'H']\n"
     ]
    }
   ],
   "source": [
    "for word in list:\n",
    "        word = [pos.upper() for pos in word]\n",
    "        print(word)"
   ]
  },
  {
   "cell_type": "code",
   "execution_count": 65,
   "metadata": {},
   "outputs": [
    {
     "name": "stdout",
     "output_type": "stream",
     "text": [
      "['hi', 'my', 'name', 'is', 'Aakash']\n",
      "['H', 'H']\n",
      "HH\n",
      "['H', 'H']\n",
      "HH\n",
      "['H', 'H', 'H', 'H']\n",
      "HHHH\n",
      "['H', 'H']\n",
      "HH\n",
      "['H', 'H', 'H', 'H', 'H', 'H']\n",
      "HHHHHH\n"
     ]
    }
   ],
   "source": [
    "print(list)\n",
    "for word in list:\n",
    "    word = [charater.upper()for character in word]\n",
    "    print(word)\n",
    "    print(''.join(word))\n",
    "    "
   ]
  },
  {
   "cell_type": "code",
   "execution_count": 69,
   "metadata": {},
   "outputs": [
    {
     "name": "stdout",
     "output_type": "stream",
     "text": [
      "FROG\n",
      "RABBIT\n",
      "DOG\n"
     ]
    }
   ],
   "source": [
    "animals = ['frog', 'rabbit', 'dog']\n",
    "for word in animals:\n",
    "    print(''.join(letter.upper()for letter in word))\n"
   ]
  },
  {
   "cell_type": "code",
   "execution_count": 70,
   "metadata": {},
   "outputs": [
    {
     "name": "stdout",
     "output_type": "stream",
     "text": [
      "['my', 'name', 'is', 'aakasj']\n"
     ]
    }
   ],
   "source": [
    "new=input().split()\n",
    "print(new)"
   ]
  },
  {
   "cell_type": "code",
   "execution_count": 71,
   "metadata": {},
   "outputs": [
    {
     "name": "stdout",
     "output_type": "stream",
     "text": [
      "['my', 'name', 'is', 'Aakash']\n"
     ]
    }
   ],
   "source": [
    "print(input().split())"
   ]
  },
  {
   "cell_type": "code",
   "execution_count": 77,
   "metadata": {},
   "outputs": [
    {
     "name": "stdout",
     "output_type": "stream",
     "text": [
      "hh..o..p..bb\n"
     ]
    }
   ],
   "source": [
    "z = input().split()\n",
    "print('..'.join(z))"
   ]
  },
  {
   "cell_type": "code",
   "execution_count": 83,
   "metadata": {},
   "outputs": [
    {
     "name": "stdout",
     "output_type": "stream",
     "text": [
      "YES\n"
     ]
    }
   ],
   "source": [
    "lol=input().split()\n",
    "for i in range(len(lol)):\n",
    "    if lol[i] == \"1\":\n",
    "        print(\"YES\")\n",
    "    else:\n",
    "        print(\"NO\")\n"
   ]
  },
  {
   "cell_type": "code",
   "execution_count": 89,
   "metadata": {},
   "outputs": [
    {
     "name": "stdout",
     "output_type": "stream",
     "text": [
      "hello/girl\n"
     ]
    }
   ],
   "source": [
    "lol=input().split(' ')\n",
    "print('/'.join(lol))\n",
    "\n",
    "   "
   ]
  },
  {
   "cell_type": "code",
   "execution_count": 107,
   "metadata": {},
   "outputs": [
    {
     "name": "stdout",
     "output_type": "stream",
     "text": [
      "0\n",
      "a\n",
      "1\n",
      "k\n",
      "2\n",
      "p\n",
      "3\n",
      "d\n",
      "4\n",
      "p\n",
      "5\n",
      "h\n",
      "6\n",
      "l\n",
      "7\n",
      "t\n",
      "8\n",
      "e\n"
     ]
    }
   ],
   "source": [
    "letters = ['a','k','p','d','p','h','l','t','e']\n",
    "for i in range(len(letters)):\n",
    "   print(i)\n",
    "   print(letters[i])\n",
    "\n"
   ]
  },
  {
   "cell_type": "code",
   "execution_count": 109,
   "metadata": {},
   "outputs": [
    {
     "name": "stdout",
     "output_type": "stream",
     "text": [
      "C\n",
      "0\n",
      "o\n",
      "1\n",
      "n\n",
      "2\n",
      "g\n",
      "3\n",
      "r\n",
      "4\n",
      "a\n",
      "5\n",
      "t\n",
      "6\n",
      "u\n",
      "7\n",
      "l\n",
      "8\n",
      "t\n",
      "9\n",
      "i\n",
      "10\n",
      "o\n",
      "11\n",
      "n\n",
      "12\n"
     ]
    }
   ],
   "source": [
    "greet = \"Congratultion\"\n",
    "for i in range(len(greet)):\n",
    "    print(greet[i])\n",
    "    print(i)"
   ]
  },
  {
   "cell_type": "code",
   "execution_count": 118,
   "metadata": {},
   "outputs": [
    {
     "name": "stdout",
     "output_type": "stream",
     "text": [
      "o is a letter !\n",
      "r is a letter !\n",
      "a is a letter !\n",
      "n is a letter !\n",
      "g is a letter !\n",
      "e is a letter !\n"
     ]
    }
   ],
   "source": [
    "new = ['-1', 'orange', '!:']\n",
    "for i in new[1]:\n",
    "    print(i, 'is a letter !')"
   ]
  },
  {
   "cell_type": "code",
   "execution_count": 119,
   "metadata": {},
   "outputs": [
    {
     "name": "stdout",
     "output_type": "stream",
     "text": [
      "['hi', 'my', 'name', 'is', 'Aakash']\n"
     ]
    }
   ],
   "source": [
    "print(list)"
   ]
  },
  {
   "cell_type": "code",
   "execution_count": 127,
   "metadata": {},
   "outputs": [
    {
     "name": "stdout",
     "output_type": "stream",
     "text": [
      "hi my name is Aakash\n"
     ]
    }
   ],
   "source": [
    "print(' '.join((i) for i in list))"
   ]
  },
  {
   "cell_type": "code",
   "execution_count": 135,
   "metadata": {},
   "outputs": [
    {
     "name": "stdout",
     "output_type": "stream",
     "text": [
      "['jkfdh']\n"
     ]
    },
    {
     "ename": "TypeError",
     "evalue": "can only concatenate str (not \"list\") to str",
     "output_type": "error",
     "traceback": [
      "\u001b[1;31m---------------------------------------------------------------------------\u001b[0m",
      "\u001b[1;31mTypeError\u001b[0m                                 Traceback (most recent call last)",
      "Cell \u001b[1;32mIn[135], line 3\u001b[0m\n\u001b[0;32m      1\u001b[0m x \u001b[38;5;241m=\u001b[39m \u001b[38;5;28minput\u001b[39m()\u001b[38;5;241m.\u001b[39msplit(\u001b[38;5;124m'\u001b[39m\u001b[38;5;124m , \u001b[39m\u001b[38;5;124m'\u001b[39m)\n\u001b[0;32m      2\u001b[0m \u001b[38;5;28mprint\u001b[39m(x)\n\u001b[1;32m----> 3\u001b[0m s \u001b[38;5;241m=\u001b[39m \u001b[43mx\u001b[49m\u001b[43m[\u001b[49m\u001b[38;5;241;43m0\u001b[39;49m\u001b[43m]\u001b[49m\u001b[43m \u001b[49m\u001b[38;5;241;43m+\u001b[39;49m\u001b[43m \u001b[49m\u001b[43m[\u001b[49m\u001b[38;5;241;43m-\u001b[39;49m\u001b[38;5;241;43m1\u001b[39;49m\u001b[43m]\u001b[49m\n\u001b[0;32m      4\u001b[0m \u001b[38;5;28mprint\u001b[39m(s)\n",
      "\u001b[1;31mTypeError\u001b[0m: can only concatenate str (not \"list\") to str"
     ]
    }
   ],
   "source": [
    "x = input().split(' , ')\n",
    "print(x)\n",
    "\n",
    "print(s)"
   ]
  },
  {
   "cell_type": "code",
   "execution_count": 8,
   "metadata": {},
   "outputs": [
    {
     "name": "stdout",
     "output_type": "stream",
     "text": [
      "1\n",
      "2\n",
      "3\n",
      "4\n",
      "5\n",
      "6\n",
      "7\n"
     ]
    },
    {
     "ename": "TypeError",
     "evalue": "'int' object is not iterable",
     "output_type": "error",
     "traceback": [
      "\u001b[1;31m---------------------------------------------------------------------------\u001b[0m",
      "\u001b[1;31mTypeError\u001b[0m                                 Traceback (most recent call last)",
      "Cell \u001b[1;32mIn[8], line 6\u001b[0m\n\u001b[0;32m      4\u001b[0m new_length\u001b[38;5;241m=\u001b[39m []\n\u001b[0;32m      5\u001b[0m length \u001b[38;5;241m=\u001b[39m \u001b[38;5;28mint\u001b[39m(\u001b[38;5;28minput\u001b[39m(\u001b[38;5;124m'\u001b[39m\u001b[38;5;124m'\u001b[39m))\n\u001b[1;32m----> 6\u001b[0m \u001b[38;5;28;01mfor\u001b[39;00m j \u001b[38;5;129;01min\u001b[39;00m i:\n\u001b[0;32m      7\u001b[0m     new_length\u001b[38;5;241m.\u001b[39mappend(\u001b[38;5;241m123\u001b[39m)\n\u001b[0;32m      8\u001b[0m     \u001b[38;5;28mprint\u001b[39m(j)\n",
      "\u001b[1;31mTypeError\u001b[0m: 'int' object is not iterable"
     ]
    }
   ],
   "source": [
    "new_list= [1,2,3,4,5,6,7]\n",
    "for i in new_list:\n",
    "    print(i)\n",
    "new_length= []\n",
    "length = int(input(''))\n",
    "for j in i:\n",
    "    new_length.append(123)\n",
    "    print(j)\n",
    "    "
   ]
  },
  {
   "cell_type": "code",
   "execution_count": 2,
   "metadata": {},
   "outputs": [
    {
     "name": "stdout",
     "output_type": "stream",
     "text": [
      "Total sum: 15\n"
     ]
    }
   ],
   "source": [
    "count = 1\n",
    "total = 0  # Start with a total of 0\n",
    "\n",
    "while count <= 5:\n",
    "    total += count  # Add the current count to total\n",
    "    count += 1\n",
    "\n",
    "print(\"Total sum:\", total)\n"
   ]
  },
  {
   "cell_type": "code",
   "execution_count": 1,
   "metadata": {},
   "outputs": [
    {
     "name": "stdout",
     "output_type": "stream",
     "text": [
      "47\n"
     ]
    }
   ],
   "source": [
    "start= 1\n",
    "add= 2\n",
    "while start < 10:\n",
    " add += start\n",
    " start += 1\n",
    "print(add)\n",
    "\n"
   ]
  },
  {
   "cell_type": "code",
   "execution_count": 29,
   "metadata": {},
   "outputs": [
    {
     "name": "stdout",
     "output_type": "stream",
     "text": [
      "1\n",
      "3\n",
      "6\n",
      "10\n",
      "15\n",
      "21\n",
      "28\n",
      "36\n",
      "45\n"
     ]
    }
   ],
   "source": [
    "count = 1\n",
    "other = 0\n",
    "while count <10:\n",
    "    other += count\n",
    "    count += 1\n",
    "    print(other)\n",
    "    \n",
    "    \n"
   ]
  },
  {
   "cell_type": "code",
   "execution_count": 32,
   "metadata": {},
   "outputs": [
    {
     "name": "stdout",
     "output_type": "stream",
     "text": [
      "1\n",
      "3\n",
      "6\n",
      "10\n",
      "15\n",
      "21\n",
      "28\n",
      "36\n",
      "45\n"
     ]
    }
   ],
   "source": [
    "count = 1\n",
    "other = 0\n",
    "results = []  # List to store each cumulative value\n",
    "\n",
    "while count < 10:\n",
    "    other += count\n",
    "    count += 1\n",
    "    results.append(other)  # Add each result to the list\n",
    "\n",
    "# Now print each value in 'results'\n",
    "for i in results:\n",
    "    print(i)\n"
   ]
  },
  {
   "cell_type": "code",
   "execution_count": 37,
   "metadata": {},
   "outputs": [
    {
     "name": "stdout",
     "output_type": "stream",
     "text": [
      "1\n",
      "2\n",
      "3\n",
      "4\n",
      "5\n",
      "6\n",
      "7\n",
      "8\n",
      "9\n"
     ]
    }
   ],
   "source": [
    "count= 1\n",
    "target = int(input())\n",
    "while count <target:\n",
    "    print(count)\n",
    "    count += 1"
   ]
  },
  {
   "cell_type": "code",
   "execution_count": 52,
   "metadata": {},
   "outputs": [
    {
     "name": "stdout",
     "output_type": "stream",
     "text": [
      "yes\n"
     ]
    }
   ],
   "source": [
    "my_list = [\"1\", \"2\", \"3\"]\n",
    "user = input(\"Enter a number: \")\n",
    "\n",
    "if user in my_list:\n",
    "    print(\"yes\")\n",
    "else:\n",
    "    print(\"no\")\n",
    "\n"
   ]
  },
  {
   "cell_type": "code",
   "execution_count": 57,
   "metadata": {},
   "outputs": [
    {
     "name": "stdout",
     "output_type": "stream",
     "text": [
      "1\n",
      "2\n",
      "3\n",
      "4\n",
      "5\n"
     ]
    }
   ],
   "source": [
    " #Question: Write a program that asks the user for a number and then counts from 1 up to that number.\n",
    " #  Use a while loop to print each number on a new line.\n",
    "\n",
    "user= int(input())\n",
    "count= 1\n",
    "while count < user:\n",
    "    print(count)\n",
    "    count += 1"
   ]
  },
  {
   "cell_type": "code",
   "execution_count": 63,
   "metadata": {},
   "outputs": [
    {
     "name": "stdout",
     "output_type": "stream",
     "text": [
      "1\n",
      "2\n",
      "6\n",
      "24\n",
      "120\n"
     ]
    }
   ],
   "source": [
    "#Question: Write a program that starts with result = 1 and factor = 1. Use a while loop to multiply result by factor each time, and add 1 to factor until result reaches 100. \n",
    "# Print result each time it updates\n",
    "\n",
    "user= int(input())\n",
    "result = 1\n",
    "factor = 1\n",
    "while result <= user:\n",
    "    result = result * factor\n",
    "    factor = factor + 1\n",
    "    print(result)"
   ]
  },
  {
   "cell_type": "code",
   "execution_count": 6,
   "metadata": {},
   "outputs": [
    {
     "name": "stdout",
     "output_type": "stream",
     "text": [
      "10\n",
      "9\n",
      "8\n",
      "7\n",
      "6\n",
      "5\n",
      "4\n",
      "3\n",
      "2\n",
      "1\n",
      "end\n"
     ]
    }
   ],
   "source": [
    "#Question: Create a countdown program that starts from 10 and goes down to 1, printing each number. When the loop ends, print \"Blastoff!\".\n",
    "#Challenge: Make the countdown start from any number you want (ask the user for input), and still count down to 1.\n",
    "\n",
    "#Solution:\n",
    "user = int(input(\" \"))\n",
    "start = 10\n",
    "while user < 10:\n",
    "    if user == 0:\n",
    "     print(\"Blastoff\")\n",
    "     break\n",
    "else:\n",
    "    while start > 0:\n",
    "        print(start)\n",
    "        start -= 1\n",
    "print(\"end\")\n",
    "\n"
   ]
  },
  {
   "cell_type": "code",
   "execution_count": 19,
   "metadata": {},
   "outputs": [
    {
     "name": "stdout",
     "output_type": "stream",
     "text": [
      "6\n"
     ]
    },
    {
     "ename": "TypeError",
     "evalue": "'int' object is not iterable",
     "output_type": "error",
     "traceback": [
      "\u001b[1;31m---------------------------------------------------------------------------\u001b[0m",
      "\u001b[1;31mTypeError\u001b[0m                                 Traceback (most recent call last)",
      "Cell \u001b[1;32mIn[19], line 8\u001b[0m\n\u001b[0;32m      6\u001b[0m \u001b[38;5;28;01melse\u001b[39;00m:\n\u001b[0;32m      7\u001b[0m  j \u001b[38;5;241m=\u001b[39m\u001b[38;5;28mprint\u001b[39m(\u001b[38;5;28minput\u001b[39m())\n\u001b[1;32m----> 8\u001b[0m  \u001b[38;5;28;01mfor\u001b[39;00m j \u001b[38;5;129;01min\u001b[39;00m count:\n\u001b[0;32m      9\u001b[0m     \u001b[38;5;28mprint\u001b[39m(j)\n\u001b[0;32m     10\u001b[0m     count\u001b[38;5;241m+\u001b[39m\u001b[38;5;241m=\u001b[39m \u001b[38;5;241m1\u001b[39m\n",
      "\u001b[1;31mTypeError\u001b[0m: 'int' object is not iterable"
     ]
    }
   ],
   "source": [
    "user = int(input())\n",
    "list= [1,2,3,4]\n",
    "count= 0\n",
    "if user in list:\n",
    "    print(\"it is avaialable\")\n",
    "else:\n",
    " j =print(input())\n",
    " for j in count:\n",
    "    print(j)\n",
    "    count+= 1\n",
    "\n",
    "\n"
   ]
  },
  {
   "cell_type": "code",
   "execution_count": 29,
   "metadata": {},
   "outputs": [
    {
     "name": "stdout",
     "output_type": "stream",
     "text": [
      "[1]\n",
      "[1, 4]\n",
      "[1, 4, 7]\n"
     ]
    }
   ],
   "source": [
    "lists = [1,2,3,4,5,6,7]\n",
    "count= 1\n",
    "new_list= []\n",
    "while count in lists:\n",
    "    new_list.append(count)\n",
    "    print(new_list)\n",
    "    count += 3\n",
    "    \n",
    "\n"
   ]
  },
  {
   "cell_type": "code",
   "execution_count": 27,
   "metadata": {},
   "outputs": [
    {
     "name": "stdout",
     "output_type": "stream",
     "text": [
      "[3, 6, 9, 12, 15, 18]\n"
     ]
    }
   ],
   "source": [
    "new=[]\n",
    "for i in range(3,20,3):\n",
    "  new.append(i)\n",
    "print(new)\n",
    "\n",
    "\n"
   ]
  },
  {
   "cell_type": "code",
   "execution_count": 43,
   "metadata": {},
   "outputs": [
    {
     "name": "stdout",
     "output_type": "stream",
     "text": [
      "dict_items([('s', 2), ('i', 2), ('n', 3), ('d', 1), ('h', 2), ('K', 2), ('P', 2), ('B', 1), ('a', 3), ('l', 1), ('o', 1), ('c', 1), ('t', 1), ('u', 1), ('j', 1), ('b', 1)])\n"
     ]
    }
   ],
   "source": [
    "pakistan =[\"sindh\", \"KPK\",  \"Balochistan\", \"Punjab\"]\n",
    "counts = ''.join(pakistan)\n",
    "countss= Counter(counts)\n",
    "print(countss.items())"
   ]
  },
  {
   "cell_type": "code",
   "execution_count": 50,
   "metadata": {},
   "outputs": [
    {
     "name": "stdout",
     "output_type": "stream",
     "text": [
      "['my', 'name', 'is', 'Aakash']\n"
     ]
    }
   ],
   "source": [
    "my= \"my name is Aakash\"\n",
    "y= my.split()\n",
    "print(y)\n"
   ]
  },
  {
   "cell_type": "code",
   "execution_count": 57,
   "metadata": {},
   "outputs": [
    {
     "name": "stdout",
     "output_type": "stream",
     "text": [
      "ehs\n"
     ]
    }
   ],
   "source": [
    "user = input().split()\n",
    "rev = [i[::-1] for i in user]\n",
    "new =' '.join(rev) \n",
    "print(new)\n"
   ]
  },
  {
   "cell_type": "code",
   "execution_count": 58,
   "metadata": {},
   "outputs": [
    {
     "name": "stdout",
     "output_type": "stream",
     "text": [
      "olleh\n"
     ]
    }
   ],
   "source": [
    "text= input().split()\n",
    "reversed_words= [word[::-1] for word in text]\n",
    "outcome = ''.join(reversed_words)\n",
    "print(outcome)"
   ]
  },
  {
   "cell_type": "code",
   "execution_count": 60,
   "metadata": {},
   "outputs": [
    {
     "name": "stdout",
     "output_type": "stream",
     "text": [
      "Even number 1 found at index 0\n",
      "Even number 3 found at index 2\n",
      "Even number 5 found at index 4\n"
     ]
    }
   ],
   "source": [
    "numbers = [1, 2, 3, 4, 5, 6]\n",
    "for index, number in enumerate(numbers):\n",
    "    if number %2 == 1:\n",
    "        print(f\"Even number {number} found at index {index}\")\n"
   ]
  },
  {
   "cell_type": "code",
   "execution_count": 62,
   "metadata": {},
   "outputs": [
    {
     "name": "stdout",
     "output_type": "stream",
     "text": [
      "Even number 2 found at index 1\n",
      "Even number 4 found at index 3\n",
      "Even number 6 found at index 5\n"
     ]
    }
   ],
   "source": [
    "numbers = [1, 2, 3, 4, 5, 6]\n",
    "for index, number in enumerate(numbers):\n",
    "    if number % 2 == 0:\n",
    "        print(f\"Even number {number} found at index {index}\")\n"
   ]
  },
  {
   "cell_type": "code",
   "execution_count": 65,
   "metadata": {},
   "outputs": [
    {
     "name": "stdout",
     "output_type": "stream",
     "text": [
      "War of the Worlds by HG Wells\n"
     ]
    }
   ],
   "source": [
    "books = {\n",
    "    'The Silmarillion': 'John Tolkien',\n",
    "    'Harry Potter and the Goblet of Fire': 'J.K. Rowling',\n",
    "    'Indomitable Planet': 'Harry Garrison',\n",
    "    'Man without a face': 'Alfred Bester',\n",
    "    'Alice in Wonderland': 'Lewis Carroll',\n",
    "    \"A Space Odyssey\": \"Arthur Clarke\",\n",
    "    'Dune': 'Frank Herbert',\n",
    "    \"Twenty Thousand Leagues Under the Sea\": \"Jules Verne\",\n",
    "    \"Yankees from Connecticut at the court of King Arthur\": \"Mark Twain\",\n",
    "    \"American Gods\": \"Neil Gaiman\",\n",
    "    \"The Chronicles of Amber\": \"Roger Zelazny\",\n",
    "    'The Chronicles of Narnia': 'Clive S. Lewis',\n",
    "    \"War of the Worlds\": \"HG Wells\"\n",
    "}\n",
    "search_item= str(input(''))\n",
    "for title, author in books.items():\n",
    "    if title in search_item or author in search_item:\n",
    "        print(f'{title} by {author}')\n"
   ]
  },
  {
   "cell_type": "code",
   "execution_count": 69,
   "metadata": {},
   "outputs": [
    {
     "name": "stdout",
     "output_type": "stream",
     "text": [
      "hello, aakash\n"
     ]
    }
   ],
   "source": [
    "def greet(hi):\n",
    "    return  \"hello, \" + hi\n",
    "\n",
    "message = greet(input(\"what is your name?\"))\n",
    "print(message)\n",
    "\n"
   ]
  },
  {
   "cell_type": "code",
   "execution_count": 1,
   "metadata": {},
   "outputs": [
    {
     "name": "stdout",
     "output_type": "stream",
     "text": [
      "[12345]\n"
     ]
    }
   ],
   "source": [
    "\n",
    "x = input()\n",
    "x = list(map(int, x.split(',')))\n",
    "new_x = []\n",
    "new_zero = []\n",
    "for num in x:\n",
    "    if num != 0:\n",
    "        new_x.append(num)\n",
    "    else:\n",
    "        new_zero.append(num)\n",
    "new_lst = new_x + new_zero\n",
    "print(new_lst)"
   ]
  },
  {
   "cell_type": "code",
   "execution_count": 3,
   "metadata": {},
   "outputs": [
    {
     "name": "stdout",
     "output_type": "stream",
     "text": [
      "Even is greater than Odd\n"
     ]
    }
   ],
   "source": [
    "\n",
    "s = input()\n",
    "even = 0\n",
    "odd = 0\n",
    "for i in s:\n",
    "    digit = int(i)\n",
    "    if digit % 2 == 0:\n",
    "        even += digit\n",
    "    else:\n",
    "        odd += digit\n",
    "if even > odd:\n",
    "    print(\"Even is greater than Odd\")\n",
    "elif odd > even:\n",
    "    print(\"Odd is greater than Even\")\n",
    "else:\n",
    "    print(\"Even and Odd are the same\")"
   ]
  },
  {
   "cell_type": "code",
   "execution_count": null,
   "metadata": {},
   "outputs": [],
   "source": []
  }
 ],
 "metadata": {
  "kernelspec": {
   "display_name": "Python 3",
   "language": "python",
   "name": "python3"
  },
  "language_info": {
   "codemirror_mode": {
    "name": "ipython",
    "version": 3
   },
   "file_extension": ".py",
   "mimetype": "text/x-python",
   "name": "python",
   "nbconvert_exporter": "python",
   "pygments_lexer": "ipython3",
   "version": "3.10.7"
  }
 },
 "nbformat": 4,
 "nbformat_minor": 2
}
